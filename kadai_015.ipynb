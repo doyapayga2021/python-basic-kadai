{
  "nbformat": 4,
  "nbformat_minor": 0,
  "metadata": {
    "colab": {
      "provenance": []
    },
    "kernelspec": {
      "name": "python3",
      "display_name": "Python 3"
    },
    "language_info": {
      "name": "python"
    }
  },
  "cells": [
    {
      "cell_type": "code",
      "source": [
        "class Human:\n",
        "    # コントラクタを定義する\n",
        "    def __init__(self, name, age):\n",
        "        self.name = name\n",
        "        self.age = age\n",
        "\n",
        "# インスタンス化する\n",
        "printinfo = Human(\"加藤\", 35)\n",
        "\n",
        "# 属性にアクセスし出力する\n",
        "print(printinfo.name)\n",
        "print(printinfo.age)\n"
      ],
      "metadata": {
        "id": "LB6vq982ZOBP"
      },
      "execution_count": null,
      "outputs": []
    }
  ]
}