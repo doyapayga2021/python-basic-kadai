{
  "nbformat": 4,
  "nbformat_minor": 0,
  "metadata": {
    "colab": {
      "provenance": []
    },
    "kernelspec": {
      "name": "python3",
      "display_name": "Python 3"
    },
    "language_info": {
      "name": "python"
    }
  },
  "cells": [
    {
      "cell_type": "code",
      "source": [
        "# 変数varの宣言\n",
        "var = 11\n",
        "# 変数varが3の倍数と5の倍数の場合「FizzBuzz」を出力\n",
        "if var%3 == 0 and var%5 == 0:\n",
        "    print(\"FizzBuzz\")\n",
        "# 変数varが3の倍数の場合「Fizz」を出力\n",
        "elif var%3 == 0:\n",
        "    print(\"Fizz\")\n",
        "# 変数varが5の倍数の場合「Buzz」を出力\n",
        "elif var%5 == 0:\n",
        "    print(\"Buzz\")\n",
        "# どの条件に当てはまらない場合varの数値を出力\n",
        "else:\n",
        "    print(var)"
      ],
      "metadata": {
        "id": "9Zdt_iW8GTB2"
      },
      "execution_count": null,
      "outputs": []
    }
  ]
}