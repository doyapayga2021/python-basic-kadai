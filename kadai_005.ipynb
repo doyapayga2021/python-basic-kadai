{
  "nbformat": 4,
  "nbformat_minor": 0,
  "metadata": {
    "colab": {
      "provenance": []
    },
    "kernelspec": {
      "name": "python3",
      "display_name": "Python 3"
    },
    "language_info": {
      "name": "python"
    }
  },
  "cells": [
    {
      "cell_type": "code",
      "execution_count": null,
      "metadata": {
        "id": "oT4OwGbnlk0P"
      },
      "outputs": [],
      "source": [
        "print(1+2)"
      ]
    },
    {
      "cell_type": "code",
      "source": [
        "age = 18 # 年齢\n",
        "\n",
        "if age < 20:\n",
        "  \"\"\"\n",
        "  #未成年の場合\n",
        "  print(\"ジュースで乾杯！\")\n",
        "else:\n",
        "  \"\"\"\n",
        "  #成年の場合\n",
        "  print(\"お酒で乾杯！\")\n"
      ],
      "metadata": {
        "id": "w-8UCU-AmNZf"
      },
      "execution_count": null,
      "outputs": []
    },
    {
      "cell_type": "code",
      "source": [
        "print(45 + 18)\n",
        "print(30 - 12)\n",
        "print(15 * 6)\n",
        "print(30 / 3)\n",
        "print(45 % 8)\n"
      ],
      "metadata": {
        "id": "XQqaWGKMrmw0"
      },
      "execution_count": null,
      "outputs": []
    },
    {
      "cell_type": "code",
      "source": [
        "print(45 + 1.8)\n",
        "print(3 - 1.2)\n",
        "print(15 * 0.6)\n",
        "print(3 / 0.3)\n",
        "print(45 % 0.8)\n"
      ],
      "metadata": {
        "id": "s-n685k-sLJG"
      },
      "execution_count": null,
      "outputs": []
    },
    {
      "cell_type": "code",
      "source": [
        "print(\"今日の天気は\"+\"晴れ\")\n",
        "print(\"今日の天気は\"\"曇り\")\n"
      ],
      "metadata": {
        "id": "NooHcBDSsmZr"
      },
      "execution_count": null,
      "outputs": []
    },
    {
      "cell_type": "code",
      "source": [
        "print(\"降水確率\"+str(50)+\"％\")\n"
      ],
      "metadata": {
        "id": "rT5Fbz1ys7al"
      },
      "execution_count": null,
      "outputs": []
    },
    {
      "cell_type": "code",
      "source": [
        "print(\"晴れ\"* 5)\n",
        "print(\"晴れ\"+\"晴れ\"+\"晴れ\"+\"晴れ\"+\"晴れ\")\n"
      ],
      "metadata": {
        "id": "MZgMCCS7tPbl"
      },
      "execution_count": null,
      "outputs": []
    },
    {
      "cell_type": "code",
      "source": [
        "user_name =\"侍太郎\"\n",
        "print(user_name)\n",
        "\n",
        "user_name =\"侍花子\"\n",
        "print(user_name)\n"
      ],
      "metadata": {
        "colab": {
          "base_uri": "https://localhost:8080/"
        },
        "id": "QJFLiR1ZtvX4",
        "outputId": "04eaebe8-700d-4aee-a8ea-06a42e75264a"
      },
      "execution_count": 3,
      "outputs": [
        {
          "output_type": "stream",
          "name": "stdout",
          "text": [
            "侍太郎\n",
            "侍花子\n"
          ]
        }
      ]
    },
    {
      "cell_type": "code",
      "source": [
        "# 整数型と浮動小数点型の足し算\n",
        "number1 = 5\n",
        "number2 = 2.5\n",
        "print(number1 + number2)\n",
        "\n",
        "# 文字列型と文字列型の連結\n",
        "last_name = \"侍\"\n",
        "first_name = \"太郎\"\n",
        "print(last_name + first_name)\n"
      ],
      "metadata": {
        "colab": {
          "base_uri": "https://localhost:8080/"
        },
        "id": "EUnZaS-ubpaS",
        "outputId": "93bad2b7-eb21-4c26-fb5c-77f7724b0eb2"
      },
      "execution_count": 4,
      "outputs": [
        {
          "output_type": "stream",
          "name": "stdout",
          "text": [
            "7.5\n",
            "侍太郎\n"
          ]
        }
      ]
    },
    {
      "cell_type": "code",
      "source": [
        "last_name = \"侍\"\n",
        "first_name = \"太郎\"\n",
        "sister_name = \"花子\"\n",
        "\n",
        "# 3つの変数を文字列内に埋め込んで表示\n",
        "print(f\"私の名前は{last_name}{first_name}です。妹の名前は{sister_name}です。\")\n"
      ],
      "metadata": {
        "colab": {
          "base_uri": "https://localhost:8080/"
        },
        "id": "bRlVJhU8ctTo",
        "outputId": "1be13be8-595b-4e1c-cd36-9cecca646f15"
      },
      "execution_count": 5,
      "outputs": [
        {
          "output_type": "stream",
          "name": "stdout",
          "text": [
            "私の名前は侍太郎です。妹の名前は花子です。\n"
          ]
        }
      ]
    },
    {
      "cell_type": "code",
      "source": [
        "# 台形面積計算ツール\n",
        "\n",
        "# 上辺設定\n",
        "uppder_side = 10\n",
        "# 下辺設定\n",
        "lower_side = 20\n",
        "# 高さ設定\n",
        "height = 5\n",
        "\n",
        "# 台形面積計算\n",
        "trapezoid_area = (uppder_side + lower_side) * height / 2\n",
        "\n",
        "# 台形面積出力\n",
        "print(f\"上辺10cm、下辺20cm、高さ5cmの台形面積は{trapezoid_area}㎠です。\")\n"
      ],
      "metadata": {
        "id": "SVT1rv-veGob"
      },
      "execution_count": null,
      "outputs": []
    }
  ]
}