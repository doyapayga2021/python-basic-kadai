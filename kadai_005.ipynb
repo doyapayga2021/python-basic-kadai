{
  "nbformat": 4,
  "nbformat_minor": 0,
  "metadata": {
    "colab": {
      "provenance": []
    },
    "kernelspec": {
      "name": "python3",
      "display_name": "Python 3"
    },
    "language_info": {
      "name": "python"
    }
  },
  "cells": [
    {
      "cell_type": "code",
      "source": [
        "# 台形面積計算ツール\n",
        "\n",
        "# 上辺設定\n",
        "uppder_side = 10\n",
        "# 下辺設定\n",
        "lower_side = 20\n",
        "# 高さ設定\n",
        "height = 5\n",
        "\n",
        "# 台形面積計算\n",
        "trapezoid_area = (uppder_side + lower_side) * height / 2\n",
        "\n",
        "# 台形面積出力\n",
        "print(f\"上辺10cm、下辺20cm、高さ5cmの台形面積は{trapezoid_area}㎠です。\")\n"
      ],
      "metadata": {
        "id": "SVT1rv-veGob"
      },
      "execution_count": null,
      "outputs": []
    },
    {
      "cell_type": "code",
      "execution_count": null,
      "metadata": {
        "id": "oT4OwGbnlk0P"
      },
      "outputs": [],
      "source": []
    }
  ]
}