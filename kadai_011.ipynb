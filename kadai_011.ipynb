{
  "nbformat": 4,
  "nbformat_minor": 0,
  "metadata": {
    "colab": {
      "provenance": []
    },
    "kernelspec": {
      "name": "python3",
      "display_name": "Python 3"
    },
    "language_info": {
      "name": "python"
    }
  },
  "cells": [
    {
      "cell_type": "code",
      "source": [
        "# リスト宣言\n",
        "array = [\"水\", \"金\", \"地\", \"火\", \"木\", \"土\", \"天\", \"海\", \"冥\"]\n",
        "\n",
        "# for出力\n",
        "for i in array:\n",
        "    print(i)\n",
        "\n",
        "# while出力\n",
        "i = 0\n",
        "while i != 9:\n",
        "    print(array[i])\n",
        "    i = i + 1\n"
      ],
      "metadata": {
        "id": "uODDc2R0FKn2"
      },
      "execution_count": null,
      "outputs": []
    }
  ]
}