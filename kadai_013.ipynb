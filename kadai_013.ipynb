{
  "nbformat": 4,
  "nbformat_minor": 0,
  "metadata": {
    "colab": {
      "provenance": []
    },
    "kernelspec": {
      "name": "python3",
      "display_name": "Python 3"
    },
    "language_info": {
      "name": "python"
    }
  },
  "cells": [
    {
      "cell_type": "code",
      "source": [
        "#price 商品金額の設定\n",
        "#consumption_tax 消費税（％）の設定\n",
        "def calculation_tax(price, consumption_tax):\n",
        "    total = price * consumption_tax *0.01\n",
        "    print(f\"{total}円\")\n",
        "\n",
        "# 商品100円の消費税（10%）を加えた商品金額の表示\n",
        "calculation_tax(100, 10)\n"
      ],
      "metadata": {
        "id": "bOPezMgrEwCu"
      },
      "execution_count": null,
      "outputs": []
    }
  ]
}