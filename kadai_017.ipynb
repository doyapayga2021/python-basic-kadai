{
  "nbformat": 4,
  "nbformat_minor": 0,
  "metadata": {
    "colab": {
      "provenance": []
    },
    "kernelspec": {
      "name": "python3",
      "display_name": "Python 3"
    },
    "language_info": {
      "name": "python"
    }
  },
  "cells": [
    {
      "cell_type": "code",
      "source": [
        " # クラスHumanを定義する\n",
        "class Human:\n",
        " # コンストラクタを定義する\n",
        "    def __init__(self, name, age):\n",
        "        self.name = name\n",
        "        self.age = age\n",
        "\n",
        " # メソッドを定義する\n",
        "    def check_adult(self):\n",
        "        if self.age >= 20:\n",
        "            print(f\"{self.name}さんは{self.age}歳なので成人です。\")\n",
        "        else:\n",
        "            print(f\"{self.name}さんは{self.age}歳なので未成年です。\")\n",
        "\n",
        " # インスタンス化する\n",
        "data = [[\"加藤\", 26],\n",
        "        [\"佐藤\", 19],\n",
        "        [\"井伊\", 14],\n",
        "        [\"清田\", 6],\n",
        "        [\"益田\", 34]]\n",
        "\n",
        " # データ数を数える変数を宣言\n",
        "a = 0\n",
        "\n",
        " # リストをfor文で作成する\n",
        "human_list = []\n",
        "for d in data:\n",
        "    human_list.append(Human(d[0], d[1]))\n",
        "    a = a + 1\n",
        "\n",
        "# メソッドにアクセスして実行する\n",
        "for i in range(a):\n",
        "    human_list[i].check_adult()\n"
      ],
      "metadata": {
        "id": "3-Ml2qHGpKkU"
      },
      "execution_count": null,
      "outputs": []
    }
  ]
}